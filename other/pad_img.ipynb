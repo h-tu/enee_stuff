{
 "cells": [
  {
   "cell_type": "code",
   "execution_count": 1,
   "id": "6efef0da-b91c-43ca-894a-75393ed4277f",
   "metadata": {},
   "outputs": [],
   "source": [
    "import numpy as np\n",
    "from PIL import Image"
   ]
  },
  {
   "cell_type": "code",
   "execution_count": null,
   "id": "1556f94b-3469-4d45-983d-6a1c9b87d1c2",
   "metadata": {},
   "outputs": [],
   "source": [
    "def pad_img(fname):\n",
    "    flipped = False\n",
    "    image = Image.open(fname)\n",
    "    a = np.array(image)\n",
    "    x,y,_ = a.shape\n",
    "    if y < x:\n",
    "        flipped = True\n",
    "        a = a.transpose(1, 0, 2)\n",
    "        x,y,_ = a.shape\n",
    "    padding = np.ones((int((y-x)/2), y, 3), dtype='uint8')*255\n",
    "    img = np.concatenate((padding,image,padding))\n",
    "    if flipped:\n",
    "        img = img.transpose(1, 0, 2)\n",
    "    output = Image.fromarray(img)\n",
    "    output.save('b.jpg')"
   ]
  },
  {
   "cell_type": "code",
   "execution_count": null,
   "id": "e9fe35e8-75b1-4caa-846d-733b9c6c826e",
   "metadata": {},
   "outputs": [],
   "source": [
    "pad_img('a.jpeg')"
   ]
  }
 ],
 "metadata": {
  "kernelspec": {
   "display_name": "Python 3 (ipykernel)",
   "language": "python",
   "name": "python3"
  },
  "language_info": {
   "codemirror_mode": {
    "name": "ipython",
    "version": 3
   },
   "file_extension": ".py",
   "mimetype": "text/x-python",
   "name": "python",
   "nbconvert_exporter": "python",
   "pygments_lexer": "ipython3",
   "version": "3.9.7"
  }
 },
 "nbformat": 4,
 "nbformat_minor": 5
}
